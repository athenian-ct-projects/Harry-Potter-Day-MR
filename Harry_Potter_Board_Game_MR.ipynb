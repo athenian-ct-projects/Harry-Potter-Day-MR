{
  "nbformat": 4,
  "nbformat_minor": 0,
  "metadata": {
    "colab": {
      "name": "Harry Potter Board Game MR",
      "provenance": [],
      "collapsed_sections": [],
      "include_colab_link": true
    },
    "kernelspec": {
      "name": "python3",
      "display_name": "Python 3"
    }
  },
  "cells": [
    {
      "cell_type": "markdown",
      "metadata": {
        "id": "view-in-github",
        "colab_type": "text"
      },
      "source": [
        "<a href=\"https://colab.research.google.com/github/athenian-ct-projects/Harry-Potter-Day-MR23/blob/master/Harry_Potter_Board_Game_MR.ipynb\" target=\"_parent\"><img src=\"https://colab.research.google.com/assets/colab-badge.svg\" alt=\"Open In Colab\"/></a>"
      ]
    },
    {
      "cell_type": "markdown",
      "metadata": {
        "id": "EjwLb2awTu7B",
        "colab_type": "text"
      },
      "source": [
        "Harry Potter Day Board Game\n",
        "\n",
        "By Merrick Rowe '23\n",
        "\n",
        "Instructions: Enter \"Dice\" to roll the dice or \"Card\" to pick a card. "
      ]
    },
    {
      "cell_type": "code",
      "metadata": {
        "colab_type": "code",
        "id": "x7W7pevBJKA2",
        "outputId": "b26bd235-ed29-4ab0-efb3-c35957cc0bd5",
        "colab": {
          "base_uri": "https://localhost:8080/",
          "height": 102
        }
      },
      "source": [
        "def trivia():\n",
        " #This function is to ask the person trivia. If they get it right, then nothing happens. If they get it wrong, they are asked a new question.   \n",
        "   #The part below makes it so that if they get the answer wrong, then they must do a new question.\n",
        "    c = False\n",
        "    while (c != True):\n",
        "        import random\n",
        "        Card = random.randint (1, 6)\n",
        "        if Card == (1):\n",
        "          #This is the first question\n",
        "            x = input (\"Who is the main character? )\n",
        "            if x == (\"Harry Potter\"):\n",
        "                print (\"True\")\n",
        "                #Below, this makes it so that if you get the answer right, the function ends\n",
        "                c = True\n",
        "            else:\n",
        "                print (\"False\")\n",
        "        if Card == (2):\n",
        "            #Second question\n",
        "            y = input (\"Who is the 'Brightest Wizard of the century' as proclaimed by Harry? )\n",
        "            if y == (\"Hermione Granger\"):\n",
        "                print (\"True\")\n",
        "                #Below, this makes it so that if you get the answer right, the function ends\n",
        "                c = True\n",
        "            else:\n",
        "                print (\"False\")\n",
        "        if Card == (3):\n",
        "            #Third question\n",
        "            z = input (\"What House is Harry Part Of? )\n",
        "            if z == (\"Gryffindor\"):\n",
        "                print (\"True\")\n",
        "                #Below, this makes it so that if you get the answer right, the function ends\n",
        "                c = True\n",
        "            else:\n",
        "                print (\"False\")\n",
        "        if Card == (4):\n",
        "          #question four\n",
        "            a = input (\"How old is Harry Potter at the Beginning of the Story? \")\n",
        "            if a == (\"12\"):\n",
        "                print (\"True\")\n",
        "               #Below, this makes it so that if you get the answer right, the function ends\n",
        "                c = True\n",
        "            else:\n",
        "                print (\"False\")\n",
        "        if Card == (5):\n",
        "            #Fifth question\n",
        "            b = input (\"Who is Harry Potter's Best Friend? \")\n",
        "            if b == (\"Ron Weasly\"):\n",
        "                print (\"True\")\n",
        "                #Below, this makes it so that if you get the answer right, the function ends\n",
        "                c = True\n",
        "            else:\n",
        "                print (\"False\")\n",
        "        if Card == (6):\n",
        "            l = input (\"How many points do you get for catching the golden snitch in a game of Quidditch? \")\n",
        "            if l == (\"150\"):\n",
        "                print (\"True\")\n",
        "                c = True\n",
        "            else:\n",
        "                print (\"False\")\n",
        "\n",
        "def dice ():\n",
        "    #This is a function for a randomizer. The randomizer is the equivilent of a dice. \n",
        "    #With the number you got, comes a horcrux, and they are in the order of destruction.\n",
        "    import random\n",
        "    Dice = random.randint (1, 7)\n",
        "    #Each of the numbers in the randomizer is a variable corresponding to an ammount to move foward\n",
        "    if Dice == (1):\n",
        "        print (\"You Found Tom Riddle's Diary. Move One Space\")\n",
        "    if Dice == (2):\n",
        "        print (\"You Found Marvolo Gaunt's ring. Move Two Spaces\")\n",
        "    if Dice == (3):\n",
        "        print (\"You Found Salazar Slytherin's locket. Move Three Spaces\")\n",
        "    if Dice == (4):\n",
        "         print (\"You Found Helga Hufflepuff's cup. Move Four Spaces\")\n",
        "    if Dice == (5):\n",
        "        print (\"You Found Rowena Ravenclaw's diadem. Move Five Spaces\")\n",
        "    if Dice == (6):\n",
        "        f = input(\"You Foud Nagini, the snake. Do you kill it or run away? \")\n",
        "        if f == (\"Kill\"):\n",
        "            print (\"You advance 6 spaces\")\n",
        "        else:\n",
        "            print (\"You Died. Sad face. Stay Where You Are\")   \n",
        "    if Dice == (7):\n",
        "         print (\"You Found Harry Potter. You move foward 7 spaces.\")\n",
        "\n",
        "\n",
        "def yellow ():\n",
        "    #This function is for when you land on yellow squares\n",
        "    #when you land on a yellow square, the randomizer chooses a for loop to denote how many spaces to move back\n",
        "    import random\n",
        "    Yellow = random.randint (1,3)\n",
        "    if Yellow == (1):\n",
        "        for m in range (1,2):\n",
        "            print (m)\n",
        "    if Yellow == (2):\n",
        "        for n in range (3,4):\n",
        "            print (n)\n",
        "    if Yellow == (3):\n",
        "        for o in range (5,6):\n",
        "            print (o)   \n",
        "\n",
        "d = input (\"Dobby Is So Happy To Meet You! Dobby wants to know if you want anything. (Type 'Dice' or 'Card'. If you land on a yellow space, type 'Yellow')\")\n",
        "if d == (\"Card\"):\n",
        "    trivia()\n",
        "#The function above calls the trivia\n",
        "if d == (\"Dice\"):\n",
        "    dice ()\n",
        "#The function above calls the dice randomizer    \n",
        "if d == (\"Yellow\"):\n",
        "    yellow ()         \n",
        "#The function above calls the function that denotes how many spaces to move back"
      ],
      "execution_count": 0,
      "outputs": [
        {
          "output_type": "stream",
          "text": [
            "Dobby Is So Happy To Meet You! Dobby wants to know if you want anything.Card\n",
            "How many points do you get for catching the golden snitch in a game of Quidditch?500\n",
            "False\n",
            "What House is Harry Part OfGryffindor\n",
            "True\n"
          ],
          "name": "stdout"
        }
      ]
    },
    {
      "cell_type": "markdown",
      "metadata": {
        "id": "UC-1lyN3gfXw",
        "colab_type": "text"
      },
      "source": [
        "Images:\n",
        "Ravenclaw:\n",
        "http://www.thecalebking.com/store/p227/House_Ravenclaw_-_Original_Watercolor_Painting.html\n",
        "Gryffindor:\n",
        "http://www.thecalebking.com/store/p213/House_Gryffindor.html\n",
        "Slytherin:\n",
        "https://www.amazon.com/Carat-Shop-Slytherin-House-Crest/dp/B07FF5VQCY\n",
        "Hufflepuff:\n",
        "http://www.thecalebking.com/store/p228/House_Hufflepuff_-_Original_Watercolor_Painting.html"
      ]
    }
  ]
}